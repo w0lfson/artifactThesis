{
 "cells": [
  {
   "cell_type": "code",
   "execution_count": 125,
   "id": "d78f4f1f",
   "metadata": {},
   "outputs": [],
   "source": [
    "# Import the needs\n",
    "import numpy as np # linear algebra\n",
    "import pandas as pd # data processing\n",
    "\n",
    "import json"
   ]
  },
  {
   "cell_type": "code",
   "execution_count": 126,
   "id": "58879168",
   "metadata": {},
   "outputs": [],
   "source": [
    "# Define a function named getMusicName that takes a single argument 'elem'\n",
    "def getMusicName(elem):\n",
    "    \n",
    "    # The function returns a string formatted as 'artist - song_title'\n",
    "    # elem is expected to be a dictionary with 'artist' and 'song_title' as keys\n",
    "    # The 'format' method replaces the placeholders {} with the respective values from the elem dictionary\n",
    "    return '{} - {}'.format(elem['artist'], elem['song_title'])"
   ]
  },
  {
   "cell_type": "code",
   "execution_count": 127,
   "id": "1e325027",
   "metadata": {},
   "outputs": [
    {
     "name": "stdout",
     "output_type": "stream",
     "text": [
      "Number of songs: 2017\n",
      "Number of attributes per song: 16\n"
     ]
    }
   ],
   "source": [
    "# Load dataset\n",
    "# The 'index_col=0' argument specifies that the first column should be used as the index of the DataFrame\n",
    "dfSongs = pd.read_csv('data.csv', index_col=0)\n",
    "\n",
    "# Get the number of rows (songs) and columns (attributes) in the DataFrame\n",
    "# The shape attribute of the DataFrame returns a tuple (number of rows, number of columns)\n",
    "rows, cols = dfSongs.shape\n",
    "\n",
    "# Print the number of songs (rows) and number of attributes (columns) in the dataset\n",
    "print('Number of songs: {}'.format(rows))\n",
    "print('Number of attributes per song: {}'.format(cols))"
   ]
  },
  {
   "cell_type": "code",
   "execution_count": null,
   "id": "84577c1b",
   "metadata": {},
   "outputs": [],
   "source": [
    "# the above script loads a CSV file into a pandas DataFrame, \n",
    "# then calculates and prints the number of rows (songs) \n",
    "# and columns (attributes) in the dataset."
   ]
  },
  {
   "cell_type": "code",
   "execution_count": 128,
   "id": "251c984e",
   "metadata": {},
   "outputs": [
    {
     "data": {
      "text/plain": [
       "Index(['acousticness', 'danceability', 'duration_ms', 'energy',\n",
       "       'instrumentalness', 'key', 'liveness', 'loudness', 'mode',\n",
       "       'speechiness', 'tempo', 'time_signature', 'valence', 'target',\n",
       "       'song_title', 'artist'],\n",
       "      dtype='object')"
      ]
     },
     "metadata": {},
     "output_type": "display_data"
    }
   ],
   "source": [
    "# Print the columns This line of code outputs the names of all the columns (attributes) \n",
    "# in the dfSongs DataFrame. It helps to understand what attributes are available for each song.\n",
    "\n",
    "display(dfSongs.columns)"
   ]
  },
  {
   "cell_type": "code",
   "execution_count": 129,
   "id": "b05410e3",
   "metadata": {},
   "outputs": [
    {
     "name": "stdout",
     "output_type": "stream",
     "text": [
      "<class 'pandas.core.frame.DataFrame'>\n",
      "Index: 2017 entries, 0 to 2016\n",
      "Data columns (total 16 columns):\n",
      " #   Column            Non-Null Count  Dtype  \n",
      "---  ------            --------------  -----  \n",
      " 0   acousticness      2017 non-null   float64\n",
      " 1   danceability      2017 non-null   float64\n",
      " 2   duration_ms       2017 non-null   int64  \n",
      " 3   energy            2017 non-null   float64\n",
      " 4   instrumentalness  2017 non-null   float64\n",
      " 5   key               2017 non-null   int64  \n",
      " 6   liveness          2017 non-null   float64\n",
      " 7   loudness          2017 non-null   float64\n",
      " 8   mode              2017 non-null   int64  \n",
      " 9   speechiness       2017 non-null   float64\n",
      " 10  tempo             2017 non-null   float64\n",
      " 11  time_signature    2017 non-null   float64\n",
      " 12  valence           2017 non-null   float64\n",
      " 13  target            2017 non-null   int64  \n",
      " 14  song_title        2017 non-null   object \n",
      " 15  artist            2017 non-null   object \n",
      "dtypes: float64(10), int64(4), object(2)\n",
      "memory usage: 267.9+ KB\n"
     ]
    }
   ],
   "source": [
    "# Print the attributes type\n",
    "# Display a concise summary of the DataFrame using the 'info()' method\n",
    "# This will print the following information:\n",
    "# 1. Index range (number of rows)\n",
    "# 2. Column names\n",
    "# 3. Number of non-null values per column\n",
    "# 4. Data types of each column (e.g., int64, float64, object, etc.)\n",
    "# 5. Memory usage of the DataFrame\n",
    "\n",
    "dfSongs.info()"
   ]
  },
  {
   "cell_type": "code",
   "execution_count": 130,
   "id": "09c149a2",
   "metadata": {},
   "outputs": [
    {
     "data": {
      "text/html": [
       "<div>\n",
       "<style scoped>\n",
       "    .dataframe tbody tr th:only-of-type {\n",
       "        vertical-align: middle;\n",
       "    }\n",
       "\n",
       "    .dataframe tbody tr th {\n",
       "        vertical-align: top;\n",
       "    }\n",
       "\n",
       "    .dataframe thead th {\n",
       "        text-align: right;\n",
       "    }\n",
       "</style>\n",
       "<table border=\"1\" class=\"dataframe\">\n",
       "  <thead>\n",
       "    <tr style=\"text-align: right;\">\n",
       "      <th></th>\n",
       "      <th>song_title</th>\n",
       "      <th>artist</th>\n",
       "    </tr>\n",
       "  </thead>\n",
       "  <tbody>\n",
       "    <tr>\n",
       "      <th>0</th>\n",
       "      <td>Mask Off</td>\n",
       "      <td>Future</td>\n",
       "    </tr>\n",
       "    <tr>\n",
       "      <th>1</th>\n",
       "      <td>Redbone</td>\n",
       "      <td>Childish Gambino</td>\n",
       "    </tr>\n",
       "    <tr>\n",
       "      <th>2</th>\n",
       "      <td>Xanny Family</td>\n",
       "      <td>Future</td>\n",
       "    </tr>\n",
       "    <tr>\n",
       "      <th>3</th>\n",
       "      <td>Master Of None</td>\n",
       "      <td>Beach House</td>\n",
       "    </tr>\n",
       "    <tr>\n",
       "      <th>4</th>\n",
       "      <td>Parallel Lines</td>\n",
       "      <td>Junior Boys</td>\n",
       "    </tr>\n",
       "  </tbody>\n",
       "</table>\n",
       "</div>"
      ],
      "text/plain": [
       "       song_title            artist\n",
       "0        Mask Off            Future\n",
       "1         Redbone  Childish Gambino\n",
       "2    Xanny Family            Future\n",
       "3  Master Of None       Beach House\n",
       "4  Parallel Lines       Junior Boys"
      ]
     },
     "execution_count": 130,
     "metadata": {},
     "output_type": "execute_result"
    }
   ],
   "source": [
    "dfSongs[['song_title', 'artist']].head(5)"
   ]
  },
  {
   "cell_type": "code",
   "execution_count": 131,
   "id": "4dacb1d0",
   "metadata": {},
   "outputs": [
    {
     "name": "stdout",
     "output_type": "stream",
     "text": [
      "name: Future - Mask Off\n"
     ]
    }
   ],
   "source": [
    "# Select a song\n",
    "anySong = dfSongs.loc[0]\n",
    "# Get the song name\n",
    "anySongName = getMusicName(anySong)\n",
    "print('name:', anySongName)"
   ]
  },
  {
   "cell_type": "code",
   "execution_count": 132,
   "id": "61b69d97",
   "metadata": {},
   "outputs": [],
   "source": [
    "# K-query for K-furthest neighbour\n",
    "# query point = song / arrCharactPoints = features and k = number of furthest neighbours\n",
    "def kfnQuery(queryPoint, arrCharactPoints, k):\n",
    "    \n",
    "    #creating an array of \n",
    "    tmp = arrCharactPoints.copy(deep=True)\n",
    "    \n",
    "    tmp['dist'] = tmp.apply(lambda x: np.linalg.norm(x-queryPoint), axis=1)\n",
    "    # sort by distance in descending order for K-furthest Neighbours\n",
    "    tmp = tmp.sort_values('dist')\n",
    "    \n",
    "    # return the indices of the k furthest neighbour\n",
    "    return tmp.tail(k).index\n",
    "\n",
    "# Range query for points beyond a certain radius\n",
    "def rangeFurthestQuery(queryPoint, arrCharactPoints, radius):\n",
    "    tmp = arrCharactPoints.copy(deep=True)\n",
    "    tmp['dist'] = tmp.apply(lambda x: np.linalg.norm(x-queryPoint), axis=1)\n",
    "    \n",
    "    # Mark points that are outside the radius (furthest from the query point)\n",
    "    tmp['outside_radius'] = tmp.apply(lambda x: 1 if x['dist'] <= radius else 0, axis=1)\n",
    "    \n",
    "    # Return indices of points that are outside the radius\n",
    "    return tmp.query('outside_radius == 1').index"
   ]
  },
  {
   "cell_type": "code",
   "execution_count": 133,
   "id": "8e08d8b3",
   "metadata": {},
   "outputs": [],
   "source": [
    "# Execute k-NN removing the 'query point'\n",
    "def querySimilars(df, columns, idx, func, param):\n",
    "    arr = df[columns].copy(deep=True)\n",
    "    queryPoint = arr.loc[idx]\n",
    "    arr = arr.drop([idx])\n",
    "    response = func(queryPoint, arr, param)\n",
    "    return response"
   ]
  },
  {
   "cell_type": "code",
   "execution_count": 168,
   "id": "2daf3b66",
   "metadata": {},
   "outputs": [],
   "source": [
    "# Selecting song and attributes\n",
    "\n",
    "# danceability score of 0.867\n",
    "songIndex = 84 # query point, selected song\n",
    "columns = ['acousticness','danceability','energy','instrumentalness','liveness','speechiness','valence']\n",
    "\n",
    "# Selecting query parameters\n",
    "func, param = kfnQuery, 3 # k=3\n",
    "\n",
    "# Querying\n",
    "response = querySimilars(dfSongs, columns, songIndex, func, param)"
   ]
  },
  {
   "cell_type": "code",
   "execution_count": 169,
   "id": "61ff26ea",
   "metadata": {
    "scrolled": true
   },
   "outputs": [
    {
     "name": "stdout",
     "output_type": "stream",
     "text": [
      "# Query Point\n",
      "84 James Brown - The Payback\n"
     ]
    }
   ],
   "source": [
    "# Select a song\n",
    "anySong = dfSongs.loc[songIndex]\n",
    "# Get the song name\n",
    "anySongName = getMusicName(anySong)\n",
    "\n",
    "# Print\n",
    "print('# Query Point')\n",
    "print(songIndex, anySongName)"
   ]
  },
  {
   "cell_type": "code",
   "execution_count": 170,
   "id": "afbdd2f7",
   "metadata": {},
   "outputs": [
    {
     "data": {
      "text/plain": [
       "Index([1596, 1554, 1876], dtype='int64')"
      ]
     },
     "execution_count": 170,
     "metadata": {},
     "output_type": "execute_result"
    }
   ],
   "source": [
    "response"
   ]
  },
  {
   "cell_type": "code",
   "execution_count": 171,
   "id": "79553f20",
   "metadata": {},
   "outputs": [],
   "source": [
    "# print('# Similar songs')\n",
    "# for idx in response:\n",
    "#     anySong = dfSongs.loc[idx]\n",
    "#     anySongName = getMusicName(anySong)\n",
    "    \n",
    "#     print(idx, anySongName)"
   ]
  },
  {
   "cell_type": "code",
   "execution_count": 172,
   "id": "e831eaee",
   "metadata": {},
   "outputs": [],
   "source": [
    "# Selecting song and attributes\n",
    "songIndex = 6 # query point, selected song\n",
    "#7 attributes\n",
    "columns = ['acousticness','danceability','energy','instrumentalness','liveness','speechiness','valence']\n",
    "\n",
    "# Selecting query parameters\n",
    "func, param = kfnQuery, 3 # threshold distance\n",
    "\n",
    "# Querying\n",
    "response = querySimilars(dfSongs, columns, songIndex, func, param)"
   ]
  },
  {
   "cell_type": "code",
   "execution_count": 173,
   "id": "73cc5b13",
   "metadata": {},
   "outputs": [
    {
     "data": {
      "text/plain": [
       "Index([1530, 1546, 1876], dtype='int64')"
      ]
     },
     "execution_count": 173,
     "metadata": {},
     "output_type": "execute_result"
    }
   ],
   "source": [
    "# give furthest neighbor to queried songs\n",
    "response"
   ]
  },
  {
   "cell_type": "code",
   "execution_count": 176,
   "id": "4c7e7ad1",
   "metadata": {},
   "outputs": [
    {
     "name": "stdout",
     "output_type": "stream",
     "text": [
      "# Similar songs\n",
      "1530 Passport Quartet - I'm a Fool to Want You\n",
      "1546 Jan Lundgren Trio - Almas vaggvisa\n",
      "1876 Frédéric Chopin - Nocturne No.1 In B Flat Minor, Op.9 No.1\n"
     ]
    }
   ],
   "source": [
    "# print('# Similar songs')\n",
    "# for idx in response:\n",
    "#     anySong = dfSongs.loc[idx]\n",
    "#     anySongName = getMusicName(anySong)\n",
    "    \n",
    "#     print(idx, anySongName)"
   ]
  },
  {
   "cell_type": "code",
   "execution_count": 190,
   "id": "f4643d12",
   "metadata": {},
   "outputs": [],
   "source": [
    "# similar songs // regular recommendations\n",
    "\n",
    "# Defining the query point and the attributes\n",
    "# k = 3\n",
    "# queryPoint = [1, 1, 1] # query point\n",
    "\n",
    "# # adjust attributes to \n",
    "# columns = ['danceability','energy','valence']\n",
    "\n",
    "# # Searching for the songs\n",
    "# arr = dfSongs[columns].copy(deep=True)\n",
    "# response = kfnQuery(queryPoint, arr, k)\n",
    "\n",
    "# # Printing\n",
    "# for idx in response:\n",
    "#     anySong = dfSongs.loc[idx]\n",
    "#     anySongName = getMusicName(anySong)\n",
    "    \n",
    "#     print(idx, anySongName)"
   ]
  },
  {
   "cell_type": "code",
   "execution_count": 191,
   "id": "ec896c8a",
   "metadata": {},
   "outputs": [
    {
     "name": "stdout",
     "output_type": "stream",
     "text": [
      "1318 Obscure of Acacia - Rope\n",
      "1349 Aversions Crown - Prismatic Abyss\n",
      "1322 Walking Dead On Broadway - Pitchblack\n"
     ]
    }
   ],
   "source": [
    "# Break out recommendations / furthest neighbours\n",
    "\n",
    "# Defining the query point and the attributes\n",
    "k = 3\n",
    "queryPoint = [0.2, 0.2, 0.2] # query point\n",
    "columns = ['instrumentalness','energy','speechiness']\n",
    "\n",
    "# Searching for the songs\n",
    "arr = dfSongs[columns].copy(deep=True)\n",
    "response = kfnQuery(queryPoint, arr, k)\n",
    "\n",
    "# Printing\n",
    "# print('# Active, cheerful songs')\n",
    "for idx in response:\n",
    "    anySong = dfSongs.loc[idx]\n",
    "    anySongName = getMusicName(anySong)\n",
    "    \n",
    "    print(idx, anySongName)"
   ]
  },
  {
   "cell_type": "code",
   "execution_count": null,
   "id": "b11d1a69",
   "metadata": {},
   "outputs": [],
   "source": []
  }
 ],
 "metadata": {
  "kernelspec": {
   "display_name": "Python 3 (ipykernel)",
   "language": "python",
   "name": "python3"
  },
  "language_info": {
   "codemirror_mode": {
    "name": "ipython",
    "version": 3
   },
   "file_extension": ".py",
   "mimetype": "text/x-python",
   "name": "python",
   "nbconvert_exporter": "python",
   "pygments_lexer": "ipython3",
   "version": "3.11.7"
  }
 },
 "nbformat": 4,
 "nbformat_minor": 5
}
